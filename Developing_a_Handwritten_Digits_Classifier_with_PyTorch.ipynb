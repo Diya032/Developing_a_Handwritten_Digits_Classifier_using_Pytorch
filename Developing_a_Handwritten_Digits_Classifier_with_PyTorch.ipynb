{
  "cells": [
    {
      "cell_type": "markdown",
      "id": "ef384a90",
      "metadata": {
        "id": "ef384a90"
      },
      "source": [
        "# Step 1: Data Preparation\n"
      ]
    },
    {
      "cell_type": "markdown",
      "id": "b65022b8",
      "metadata": {
        "id": "b65022b8"
      },
      "source": [
        "\n",
        "## 1.1 Load the Dataset"
      ]
    },
    {
      "cell_type": "code",
      "execution_count": 1,
      "id": "8d2956b1",
      "metadata": {
        "colab": {
          "base_uri": "https://localhost:8080/"
        },
        "id": "8d2956b1",
        "outputId": "9f35b9b4-dd00-4d03-ea12-7f2d8b9623f5"
      },
      "outputs": [
        {
          "name": "stdout",
          "output_type": "stream",
          "text": [
            "Requirement already satisfied: torchvision in /usr/local/lib/python3.10/dist-packages (0.17.1+cu121)\n",
            "Requirement already satisfied: numpy in /usr/local/lib/python3.10/dist-packages (from torchvision) (1.25.2)\n",
            "Requirement already satisfied: torch==2.2.1 in /usr/local/lib/python3.10/dist-packages (from torchvision) (2.2.1+cu121)\n",
            "Requirement already satisfied: pillow!=8.3.*,>=5.3.0 in /usr/local/lib/python3.10/dist-packages (from torchvision) (9.4.0)\n",
            "Requirement already satisfied: filelock in /usr/local/lib/python3.10/dist-packages (from torch==2.2.1->torchvision) (3.14.0)\n",
            "Requirement already satisfied: typing-extensions>=4.8.0 in /usr/local/lib/python3.10/dist-packages (from torch==2.2.1->torchvision) (4.11.0)\n",
            "Requirement already satisfied: sympy in /usr/local/lib/python3.10/dist-packages (from torch==2.2.1->torchvision) (1.12)\n",
            "Requirement already satisfied: networkx in /usr/local/lib/python3.10/dist-packages (from torch==2.2.1->torchvision) (3.3)\n",
            "Requirement already satisfied: jinja2 in /usr/local/lib/python3.10/dist-packages (from torch==2.2.1->torchvision) (3.1.4)\n",
            "Requirement already satisfied: fsspec in /usr/local/lib/python3.10/dist-packages (from torch==2.2.1->torchvision) (2023.6.0)\n",
            "Collecting nvidia-cuda-nvrtc-cu12==12.1.105 (from torch==2.2.1->torchvision)\n",
            "  Using cached nvidia_cuda_nvrtc_cu12-12.1.105-py3-none-manylinux1_x86_64.whl (23.7 MB)\n",
            "Collecting nvidia-cuda-runtime-cu12==12.1.105 (from torch==2.2.1->torchvision)\n",
            "  Using cached nvidia_cuda_runtime_cu12-12.1.105-py3-none-manylinux1_x86_64.whl (823 kB)\n",
            "Collecting nvidia-cuda-cupti-cu12==12.1.105 (from torch==2.2.1->torchvision)\n",
            "  Using cached nvidia_cuda_cupti_cu12-12.1.105-py3-none-manylinux1_x86_64.whl (14.1 MB)\n",
            "Collecting nvidia-cudnn-cu12==8.9.2.26 (from torch==2.2.1->torchvision)\n",
            "  Using cached nvidia_cudnn_cu12-8.9.2.26-py3-none-manylinux1_x86_64.whl (731.7 MB)\n",
            "Collecting nvidia-cublas-cu12==12.1.3.1 (from torch==2.2.1->torchvision)\n",
            "  Using cached nvidia_cublas_cu12-12.1.3.1-py3-none-manylinux1_x86_64.whl (410.6 MB)\n",
            "Collecting nvidia-cufft-cu12==11.0.2.54 (from torch==2.2.1->torchvision)\n",
            "  Using cached nvidia_cufft_cu12-11.0.2.54-py3-none-manylinux1_x86_64.whl (121.6 MB)\n",
            "Collecting nvidia-curand-cu12==10.3.2.106 (from torch==2.2.1->torchvision)\n",
            "  Using cached nvidia_curand_cu12-10.3.2.106-py3-none-manylinux1_x86_64.whl (56.5 MB)\n",
            "Collecting nvidia-cusolver-cu12==11.4.5.107 (from torch==2.2.1->torchvision)\n",
            "  Using cached nvidia_cusolver_cu12-11.4.5.107-py3-none-manylinux1_x86_64.whl (124.2 MB)\n",
            "Collecting nvidia-cusparse-cu12==12.1.0.106 (from torch==2.2.1->torchvision)\n",
            "  Using cached nvidia_cusparse_cu12-12.1.0.106-py3-none-manylinux1_x86_64.whl (196.0 MB)\n",
            "Collecting nvidia-nccl-cu12==2.19.3 (from torch==2.2.1->torchvision)\n",
            "  Using cached nvidia_nccl_cu12-2.19.3-py3-none-manylinux1_x86_64.whl (166.0 MB)\n",
            "Collecting nvidia-nvtx-cu12==12.1.105 (from torch==2.2.1->torchvision)\n",
            "  Using cached nvidia_nvtx_cu12-12.1.105-py3-none-manylinux1_x86_64.whl (99 kB)\n",
            "Requirement already satisfied: triton==2.2.0 in /usr/local/lib/python3.10/dist-packages (from torch==2.2.1->torchvision) (2.2.0)\n",
            "Collecting nvidia-nvjitlink-cu12 (from nvidia-cusolver-cu12==11.4.5.107->torch==2.2.1->torchvision)\n",
            "  Using cached nvidia_nvjitlink_cu12-12.4.127-py3-none-manylinux2014_x86_64.whl (21.1 MB)\n",
            "Requirement already satisfied: MarkupSafe>=2.0 in /usr/local/lib/python3.10/dist-packages (from jinja2->torch==2.2.1->torchvision) (2.1.5)\n",
            "Requirement already satisfied: mpmath>=0.19 in /usr/local/lib/python3.10/dist-packages (from sympy->torch==2.2.1->torchvision) (1.3.0)\n",
            "Installing collected packages: nvidia-nvtx-cu12, nvidia-nvjitlink-cu12, nvidia-nccl-cu12, nvidia-curand-cu12, nvidia-cufft-cu12, nvidia-cuda-runtime-cu12, nvidia-cuda-nvrtc-cu12, nvidia-cuda-cupti-cu12, nvidia-cublas-cu12, nvidia-cusparse-cu12, nvidia-cudnn-cu12, nvidia-cusolver-cu12\n",
            "Successfully installed nvidia-cublas-cu12-12.1.3.1 nvidia-cuda-cupti-cu12-12.1.105 nvidia-cuda-nvrtc-cu12-12.1.105 nvidia-cuda-runtime-cu12-12.1.105 nvidia-cudnn-cu12-8.9.2.26 nvidia-cufft-cu12-11.0.2.54 nvidia-curand-cu12-10.3.2.106 nvidia-cusolver-cu12-11.4.5.107 nvidia-cusparse-cu12-12.1.0.106 nvidia-nccl-cu12-2.19.3 nvidia-nvjitlink-cu12-12.4.127 nvidia-nvtx-cu12-12.1.105\n"
          ]
        }
      ],
      "source": [
        "pip install --user torchvision"
      ]
    },
    {
      "cell_type": "code",
      "execution_count": 2,
      "id": "74408b78",
      "metadata": {
        "colab": {
          "base_uri": "https://localhost:8080/"
        },
        "id": "74408b78",
        "outputId": "cdf6e8e1-5959-4cff-d442-2f309d281f96"
      },
      "outputs": [
        {
          "name": "stdout",
          "output_type": "stream",
          "text": [
            "Downloading http://yann.lecun.com/exdb/mnist/train-images-idx3-ubyte.gz\n",
            "Failed to download (trying next):\n",
            "HTTP Error 403: Forbidden\n",
            "\n",
            "Downloading https://ossci-datasets.s3.amazonaws.com/mnist/train-images-idx3-ubyte.gz\n",
            "Downloading https://ossci-datasets.s3.amazonaws.com/mnist/train-images-idx3-ubyte.gz to ./data/MNIST/raw/train-images-idx3-ubyte.gz\n"
          ]
        },
        {
          "name": "stderr",
          "output_type": "stream",
          "text": [
            "100%|██████████| 9912422/9912422 [00:00<00:00, 17350547.36it/s]\n"
          ]
        },
        {
          "name": "stdout",
          "output_type": "stream",
          "text": [
            "Extracting ./data/MNIST/raw/train-images-idx3-ubyte.gz to ./data/MNIST/raw\n",
            "\n",
            "Downloading http://yann.lecun.com/exdb/mnist/train-labels-idx1-ubyte.gz\n",
            "Failed to download (trying next):\n",
            "HTTP Error 403: Forbidden\n",
            "\n",
            "Downloading https://ossci-datasets.s3.amazonaws.com/mnist/train-labels-idx1-ubyte.gz\n",
            "Downloading https://ossci-datasets.s3.amazonaws.com/mnist/train-labels-idx1-ubyte.gz to ./data/MNIST/raw/train-labels-idx1-ubyte.gz\n"
          ]
        },
        {
          "name": "stderr",
          "output_type": "stream",
          "text": [
            "100%|██████████| 28881/28881 [00:00<00:00, 480916.66it/s]\n"
          ]
        },
        {
          "name": "stdout",
          "output_type": "stream",
          "text": [
            "Extracting ./data/MNIST/raw/train-labels-idx1-ubyte.gz to ./data/MNIST/raw\n",
            "\n",
            "Downloading http://yann.lecun.com/exdb/mnist/t10k-images-idx3-ubyte.gz\n",
            "Failed to download (trying next):\n",
            "HTTP Error 403: Forbidden\n",
            "\n",
            "Downloading https://ossci-datasets.s3.amazonaws.com/mnist/t10k-images-idx3-ubyte.gz\n",
            "Downloading https://ossci-datasets.s3.amazonaws.com/mnist/t10k-images-idx3-ubyte.gz to ./data/MNIST/raw/t10k-images-idx3-ubyte.gz\n"
          ]
        },
        {
          "name": "stderr",
          "output_type": "stream",
          "text": [
            "100%|██████████| 1648877/1648877 [00:00<00:00, 4407864.81it/s]\n"
          ]
        },
        {
          "name": "stdout",
          "output_type": "stream",
          "text": [
            "Extracting ./data/MNIST/raw/t10k-images-idx3-ubyte.gz to ./data/MNIST/raw\n",
            "\n",
            "Downloading http://yann.lecun.com/exdb/mnist/t10k-labels-idx1-ubyte.gz\n",
            "Failed to download (trying next):\n",
            "HTTP Error 403: Forbidden\n",
            "\n",
            "Downloading https://ossci-datasets.s3.amazonaws.com/mnist/t10k-labels-idx1-ubyte.gz\n",
            "Downloading https://ossci-datasets.s3.amazonaws.com/mnist/t10k-labels-idx1-ubyte.gz to ./data/MNIST/raw/t10k-labels-idx1-ubyte.gz\n"
          ]
        },
        {
          "name": "stderr",
          "output_type": "stream",
          "text": [
            "100%|██████████| 4542/4542 [00:00<00:00, 3535076.78it/s]"
          ]
        },
        {
          "name": "stdout",
          "output_type": "stream",
          "text": [
            "Extracting ./data/MNIST/raw/t10k-labels-idx1-ubyte.gz to ./data/MNIST/raw\n",
            "\n"
          ]
        },
        {
          "name": "stderr",
          "output_type": "stream",
          "text": [
            "\n"
          ]
        }
      ],
      "source": [
        "import torch\n",
        "from torchvision import datasets, transforms\n",
        "\n",
        "transform = transforms.Compose([\n",
        "    transforms.ToTensor(),  # Converts the image to a PyTorch tensor\n",
        "    transforms.Normalize((0.1307,), (0.3081,))  # Normalizes the tensor\n",
        "])\n",
        "\n",
        "train_dataset = datasets.MNIST(root='./data', train=True, download=True, transform=transform)\n",
        "test_dataset = datasets.MNIST(root='./data', train=False, download=True, transform=transform)\n"
      ]
    },
    {
      "cell_type": "markdown",
      "id": "994a8504",
      "metadata": {
        "id": "994a8504"
      },
      "source": [
        "### Transforms:\n",
        "* ToTensor(): Converts the image from a PIL Image or numpy array to a PyTorch tensor.\n",
        "\n",
        "* Normalize(mean, std): Normalizes the image tensor with the given mean and standard deviation. This standardization helps in speeding up the training and achieving better convergence by ensuring that the input data has a mean of 0 and a standard deviation of 1."
      ]
    },
    {
      "cell_type": "markdown",
      "id": "4985503e",
      "metadata": {
        "id": "4985503e"
      },
      "source": [
        "## 1.2 Create DataLoader\n",
        "* DataLoader is used to load the dataset in batches, which makes the training process more efficient."
      ]
    },
    {
      "cell_type": "code",
      "execution_count": 3,
      "id": "0a0d5640",
      "metadata": {
        "id": "0a0d5640"
      },
      "outputs": [],
      "source": [
        "from torch.utils.data import DataLoader\n",
        "\n",
        "train_loader = DataLoader(dataset=train_dataset, batch_size=64, shuffle=True)\n",
        "test_loader = DataLoader(dataset=test_dataset, batch_size=1000, shuffle=False)\n",
        "# No Validation Loader"
      ]
    },
    {
      "cell_type": "markdown",
      "id": "72d0c219",
      "metadata": {
        "id": "72d0c219"
      },
      "source": [
        "### DataLoader:\n",
        "* train_loader: Loads the training data in batches of 64 images and shuffles them to ensure that the model doesn't learn the order of the data.\n",
        "\n",
        "* test_loader: Loads the test data in batches of 1000 images for evaluation purposes."
      ]
    },
    {
      "cell_type": "markdown",
      "id": "7fd8f25b",
      "metadata": {
        "id": "7fd8f25b"
      },
      "source": [
        "# Step 2: Data Visualization and Exploration"
      ]
    },
    {
      "cell_type": "markdown",
      "id": "cad05f63",
      "metadata": {
        "id": "cad05f63"
      },
      "source": [
        "## 2.1 Visualize the Dataset\n",
        "* Visualizing the data helps in understanding what the input images look like."
      ]
    },
    {
      "cell_type": "code",
      "execution_count": 4,
      "id": "0409bced",
      "metadata": {
        "colab": {
          "base_uri": "https://localhost:8080/",
          "height": 438
        },
        "id": "0409bced",
        "outputId": "f0fd913f-0fda-49ec-ae0f-dc9a6f1f4109"
      },
      "outputs": [
        {
          "data": {
            "image/png": "[encoded data removed]",
            "text/plain": [
              "<Figure size 640x480 with 6 Axes>"
            ]
          },
          "metadata": {},
          "output_type": "display_data"
        }
      ],
      "source": [
        "import matplotlib.pyplot as plt\n",
        "\n",
        "examples = enumerate(train_loader)\n",
        "batch_idx, (example_data, example_targets) = next(examples)\n",
        "\n",
        "fig = plt.figure()\n",
        "for i in range(6):\n",
        "    plt.subplot(2, 3, i+1)\n",
        "    plt.tight_layout()\n",
        "    plt.imshow(example_data[i][0], cmap='gray', interpolation='none')\n",
        "    plt.title(f\"Ground Truth: {example_targets[i]}\")\n",
        "    plt.xticks([])\n",
        "    plt.yticks([])\n",
        "plt.show()\n"
      ]
    },
    {
      "cell_type": "markdown",
      "id": "f7ed9c81",
      "metadata": {
        "id": "f7ed9c81"
      },
      "source": [
        "### Visualization:\n",
        "* We take a batch of images from the train_loader.\n",
        "* Plot the first 6 images in a 2x3 grid using Matplotlib.\n",
        "* 1This gives a visual confirmation that our data is loaded and preprocessed correctly."
      ]
    },
    {
      "cell_type": "markdown",
      "id": "e3b6dd7c",
      "metadata": {
        "id": "e3b6dd7c"
      },
      "source": [
        "## 2.2 Explore Data Size and Shape\n",
        "\n",
        "* Exploring the size and shape ensures that the data matches the expected input dimensions for the neural network.\n",
        "* This prints the shape of a batch of images, which should be (64, 1, 28, 28) for the training loader, indicating 64 images of size 28x28 pixels with 1 color channel (grayscale)."
      ]
    },
    {
      "cell_type": "code",
      "execution_count": 5,
      "id": "2fda5bc9",
      "metadata": {
        "colab": {
          "base_uri": "https://localhost:8080/"
        },
        "id": "2fda5bc9",
        "outputId": "5de61f26-adca-4b1f-c840-c02098bd4b3b"
      },
      "outputs": [
        {
          "name": "stdout",
          "output_type": "stream",
          "text": [
            "torch.Size([64, 1, 28, 28])\n"
          ]
        }
      ],
      "source": [
        "print(example_data.shape) # Should output (batch_size, 1, 28, 28)"
      ]
    },
    {
      "cell_type": "markdown",
      "id": "b9327e08",
      "metadata": {
        "id": "b9327e08"
      },
      "source": [
        "# Step 3: Building and Training the Neural Network"
      ]
    },
    {
      "cell_type": "markdown",
      "id": "1fb2461e",
      "metadata": {
        "id": "1fb2461e"
      },
      "source": [
        "## 3.1 Build the Neural Network\n",
        "* We define a simple fully connected neural network (also called a feedforward neural network)."
      ]
    },
    {
      "cell_type": "code",
      "execution_count": 6,
      "id": "b9fb3b6c",
      "metadata": {
        "id": "b9fb3b6c"
      },
      "outputs": [],
      "source": [
        "import torch.nn as nn\n",
        "import torch.nn.functional as F\n",
        "\n",
        "class Net(nn.Module):\n",
        "    def __init__(self):\n",
        "        super(Net, self).__init__()\n",
        "        self.fc1 = nn.Linear(28 * 28, 128)\n",
        "        self.fc2 = nn.Linear(128, 64)\n",
        "        self.fc3 = nn.Linear(64, 10)\n",
        "\n",
        "    def forward(self, x):\n",
        "        x = x.view(-1, 28 * 28)  # Flatten the image\n",
        "        x = F.relu(self.fc1(x))  # First fully connected layer\n",
        "        x = F.relu(self.fc2(x))  # Second fully connected layer\n",
        "        x = self.fc3(x)  # Output layer\n",
        "        return F.log_softmax(x, dim=1)  # Apply log softmax for output probabilities\n",
        "\n",
        "model = Net()\n"
      ]
    },
    {
      "cell_type": "markdown",
      "id": "9f1de6d5",
      "metadata": {
        "id": "9f1de6d5"
      },
      "source": [
        "### Network Layers:\n",
        "\n",
        "* fc1: First fully connected layer with 128 neurons.\n",
        "* fc2: Second fully connected layer with 64 neurons.\n",
        "* fc3: Output layer with 10 neurons (one for each digit 0-9).\n",
        "\n",
        "### Forward Method:\n",
        "\n",
        "* Flattens the 28x28 image to a 784-element vector.\n",
        "* Applies ReLU activation after each of the first two layers.\n",
        "* Outputs the log probabilities using log_softmax."
      ]
    },
    {
      "cell_type": "markdown",
      "id": "7bb40698",
      "metadata": {
        "id": "7bb40698"
      },
      "source": [
        "## 3.2 Create an Optimizer\n",
        "* An optimizer is used to update the weights of the network based on the computed gradients."
      ]
    },
    {
      "cell_type": "code",
      "execution_count": 7,
      "id": "f6a2052c",
      "metadata": {
        "id": "f6a2052c"
      },
      "outputs": [],
      "source": [
        "optimizer = torch.optim.Adam(model.parameters(), lr=0.001)"
      ]
    },
    {
      "cell_type": "markdown",
      "id": "08eeadd5",
      "metadata": {
        "id": "08eeadd5"
      },
      "source": [
        "* Adam Optimizer: An adaptive learning rate optimization algorithm that's popular for its efficiency and performance. The learning rate is set to 0.001."
      ]
    },
    {
      "cell_type": "markdown",
      "id": "24e9fe9e",
      "metadata": {
        "id": "24e9fe9e"
      },
      "source": [
        "## 3.3 Train the Network\n",
        "* The training loop processes each batch of training data, computes the loss, performs backpropagation, and updates the weights."
      ]
    },
    {
      "cell_type": "code",
      "execution_count": 11,
      "id": "a10d2ab8",
      "metadata": {
        "colab": {
          "base_uri": "https://localhost:8080/"
        },
        "id": "a10d2ab8",
        "outputId": "ec57e01f-3d1d-4783-8801-0213edb41991"
      },
      "outputs": [
        {
          "name": "stdout",
          "output_type": "stream",
          "text": [
            "Train Epoch: 0 [0/60000 (0%)]\tLoss: 0.005339\tAccuracy: 100.0000%\n",
            "Train Epoch: 0 [6400/60000 (11%)]\tLoss: 0.045465\tAccuracy: 99.5204%\n",
            "Train Epoch: 0 [12800/60000 (21%)]\tLoss: 0.082486\tAccuracy: 99.4403%\n",
            "Train Epoch: 0 [19200/60000 (32%)]\tLoss: 0.028481\tAccuracy: 99.4549%\n",
            "Train Epoch: 0 [25600/60000 (43%)]\tLoss: 0.072760\tAccuracy: 99.4350%\n",
            "Train Epoch: 0 [32000/60000 (53%)]\tLoss: 0.010473\tAccuracy: 99.3700%\n",
            "Train Epoch: 0 [38400/60000 (64%)]\tLoss: 0.003034\tAccuracy: 99.3942%\n",
            "Train Epoch: 0 [44800/60000 (75%)]\tLoss: 0.004092\tAccuracy: 99.3915%\n",
            "Train Epoch: 0 [51200/60000 (85%)]\tLoss: 0.003496\tAccuracy: 99.3933%\n",
            "Train Epoch: 0 [57600/60000 (96%)]\tLoss: 0.005447\tAccuracy: 99.3878%\n",
            "Train Epoch: 1 [0/60000 (0%)]\tLoss: 0.012041\tAccuracy: 100.0000%\n",
            "Train Epoch: 1 [6400/60000 (11%)]\tLoss: 0.016843\tAccuracy: 99.5668%\n",
            "Train Epoch: 1 [12800/60000 (21%)]\tLoss: 0.035689\tAccuracy: 99.5258%\n",
            "Train Epoch: 1 [19200/60000 (32%)]\tLoss: 0.067402\tAccuracy: 99.5224%\n",
            "Train Epoch: 1 [25600/60000 (43%)]\tLoss: 0.003703\tAccuracy: 99.4935%\n",
            "Train Epoch: 1 [32000/60000 (53%)]\tLoss: 0.011672\tAccuracy: 99.4168%\n",
            "Train Epoch: 1 [38400/60000 (64%)]\tLoss: 0.023181\tAccuracy: 99.3188%\n",
            "Train Epoch: 1 [44800/60000 (75%)]\tLoss: 0.027299\tAccuracy: 99.2979%\n",
            "Train Epoch: 1 [51200/60000 (85%)]\tLoss: 0.020229\tAccuracy: 99.2821%\n",
            "Train Epoch: 1 [57600/60000 (96%)]\tLoss: 0.021210\tAccuracy: 99.2820%\n",
            "Train Epoch: 2 [0/60000 (0%)]\tLoss: 0.001140\tAccuracy: 100.0000%\n",
            "Train Epoch: 2 [6400/60000 (11%)]\tLoss: 0.002499\tAccuracy: 99.5050%\n",
            "Train Epoch: 2 [12800/60000 (21%)]\tLoss: 0.000864\tAccuracy: 99.5414%\n",
            "Train Epoch: 2 [19200/60000 (32%)]\tLoss: 0.000781\tAccuracy: 99.5691%\n",
            "Train Epoch: 2 [25600/60000 (43%)]\tLoss: 0.104057\tAccuracy: 99.4623%\n",
            "Train Epoch: 2 [32000/60000 (53%)]\tLoss: 0.018976\tAccuracy: 99.4417%\n",
            "Train Epoch: 2 [38400/60000 (64%)]\tLoss: 0.003011\tAccuracy: 99.3474%\n",
            "Train Epoch: 2 [44800/60000 (75%)]\tLoss: 0.053138\tAccuracy: 99.3402%\n",
            "Train Epoch: 2 [51200/60000 (85%)]\tLoss: 0.052731\tAccuracy: 99.2880%\n",
            "Train Epoch: 2 [57600/60000 (96%)]\tLoss: 0.003340\tAccuracy: 99.2838%\n",
            "Train Epoch: 3 [0/60000 (0%)]\tLoss: 0.001369\tAccuracy: 100.0000%\n",
            "Train Epoch: 3 [6400/60000 (11%)]\tLoss: 0.038802\tAccuracy: 99.5823%\n",
            "Train Epoch: 3 [12800/60000 (21%)]\tLoss: 0.000463\tAccuracy: 99.7046%\n",
            "Train Epoch: 3 [19200/60000 (32%)]\tLoss: 0.015968\tAccuracy: 99.6937%\n",
            "Train Epoch: 3 [25600/60000 (43%)]\tLoss: 0.009926\tAccuracy: 99.6922%\n",
            "Train Epoch: 3 [32000/60000 (53%)]\tLoss: 0.000209\tAccuracy: 99.7224%\n",
            "Train Epoch: 3 [38400/60000 (64%)]\tLoss: 0.030680\tAccuracy: 99.7114%\n",
            "Train Epoch: 3 [44800/60000 (75%)]\tLoss: 0.061877\tAccuracy: 99.6545%\n",
            "Train Epoch: 3 [51200/60000 (85%)]\tLoss: 0.001396\tAccuracy: 99.5943%\n",
            "Train Epoch: 3 [57600/60000 (96%)]\tLoss: 0.008708\tAccuracy: 99.5543%\n",
            "Train Epoch: 4 [0/60000 (0%)]\tLoss: 0.012198\tAccuracy: 100.0000%\n",
            "Train Epoch: 4 [6400/60000 (11%)]\tLoss: 0.000554\tAccuracy: 99.3038%\n",
            "Train Epoch: 4 [12800/60000 (21%)]\tLoss: 0.004681\tAccuracy: 99.5025%\n",
            "Train Epoch: 4 [19200/60000 (32%)]\tLoss: 0.038984\tAccuracy: 99.5743%\n",
            "Train Epoch: 4 [25600/60000 (43%)]\tLoss: 0.003293\tAccuracy: 99.5441%\n",
            "Train Epoch: 4 [32000/60000 (53%)]\tLoss: 0.028565\tAccuracy: 99.5072%\n",
            "Train Epoch: 4 [38400/60000 (64%)]\tLoss: 0.016117\tAccuracy: 99.4826%\n",
            "Train Epoch: 4 [44800/60000 (75%)]\tLoss: 0.002591\tAccuracy: 99.4584%\n",
            "Train Epoch: 4 [51200/60000 (85%)]\tLoss: 0.000082\tAccuracy: 99.4460%\n",
            "Train Epoch: 4 [57600/60000 (96%)]\tLoss: 0.028609\tAccuracy: 99.4503%\n",
            "Train Epoch: 5 [0/60000 (0%)]\tLoss: 0.013347\tAccuracy: 100.0000%\n",
            "Train Epoch: 5 [6400/60000 (11%)]\tLoss: 0.002561\tAccuracy: 99.5823%\n",
            "Train Epoch: 5 [12800/60000 (21%)]\tLoss: 0.006354\tAccuracy: 99.5569%\n",
            "Train Epoch: 5 [19200/60000 (32%)]\tLoss: 0.001023\tAccuracy: 99.4653%\n",
            "Train Epoch: 5 [25600/60000 (43%)]\tLoss: 0.000136\tAccuracy: 99.4935%\n",
            "Train Epoch: 5 [32000/60000 (53%)]\tLoss: 0.002808\tAccuracy: 99.5072%\n",
            "Train Epoch: 5 [38400/60000 (64%)]\tLoss: 0.006186\tAccuracy: 99.5086%\n",
            "Train Epoch: 5 [44800/60000 (75%)]\tLoss: 0.000760\tAccuracy: 99.4829%\n",
            "Train Epoch: 5 [51200/60000 (85%)]\tLoss: 0.001107\tAccuracy: 99.4441%\n",
            "Train Epoch: 5 [57600/60000 (96%)]\tLoss: 0.001090\tAccuracy: 99.4537%\n",
            "Train Epoch: 6 [0/60000 (0%)]\tLoss: 0.007612\tAccuracy: 100.0000%\n",
            "Train Epoch: 6 [6400/60000 (11%)]\tLoss: 0.002332\tAccuracy: 99.6597%\n",
            "Train Epoch: 6 [12800/60000 (21%)]\tLoss: 0.008008\tAccuracy: 99.6657%\n",
            "Train Epoch: 6 [19200/60000 (32%)]\tLoss: 0.011618\tAccuracy: 99.6522%\n",
            "Train Epoch: 6 [25600/60000 (43%)]\tLoss: 0.066597\tAccuracy: 99.6259%\n",
            "Train Epoch: 6 [32000/60000 (53%)]\tLoss: 0.017009\tAccuracy: 99.5259%\n",
            "Train Epoch: 6 [38400/60000 (64%)]\tLoss: 0.018712\tAccuracy: 99.5138%\n",
            "Train Epoch: 6 [44800/60000 (75%)]\tLoss: 0.004205\tAccuracy: 99.4985%\n",
            "Train Epoch: 6 [51200/60000 (85%)]\tLoss: 0.000621\tAccuracy: 99.4967%\n",
            "Train Epoch: 6 [57600/60000 (96%)]\tLoss: 0.001431\tAccuracy: 99.4815%\n",
            "Train Epoch: 7 [0/60000 (0%)]\tLoss: 0.002667\tAccuracy: 100.0000%\n",
            "Train Epoch: 7 [6400/60000 (11%)]\tLoss: 0.005314\tAccuracy: 99.7061%\n",
            "Train Epoch: 7 [12800/60000 (21%)]\tLoss: 0.003146\tAccuracy: 99.7901%\n",
            "Train Epoch: 7 [19200/60000 (32%)]\tLoss: 0.005385\tAccuracy: 99.8183%\n",
            "Train Epoch: 7 [25600/60000 (43%)]\tLoss: 0.000063\tAccuracy: 99.7818%\n",
            "Train Epoch: 7 [32000/60000 (53%)]\tLoss: 0.001146\tAccuracy: 99.7723%\n",
            "Train Epoch: 7 [38400/60000 (64%)]\tLoss: 0.026012\tAccuracy: 99.7556%\n",
            "Train Epoch: 7 [44800/60000 (75%)]\tLoss: 0.000239\tAccuracy: 99.7035%\n",
            "Train Epoch: 7 [51200/60000 (85%)]\tLoss: 0.000848\tAccuracy: 99.6411%\n",
            "Train Epoch: 7 [57600/60000 (96%)]\tLoss: 0.012603\tAccuracy: 99.5994%\n",
            "Train Epoch: 8 [0/60000 (0%)]\tLoss: 0.001183\tAccuracy: 100.0000%\n",
            "Train Epoch: 8 [6400/60000 (11%)]\tLoss: 0.025753\tAccuracy: 99.7061%\n",
            "Train Epoch: 8 [12800/60000 (21%)]\tLoss: 0.000500\tAccuracy: 99.6813%\n",
            "Train Epoch: 8 [19200/60000 (32%)]\tLoss: 0.001525\tAccuracy: 99.6833%\n",
            "Train Epoch: 8 [25600/60000 (43%)]\tLoss: 0.004174\tAccuracy: 99.7350%\n",
            "Train Epoch: 8 [32000/60000 (53%)]\tLoss: 0.000918\tAccuracy: 99.7318%\n",
            "Train Epoch: 8 [38400/60000 (64%)]\tLoss: 0.000759\tAccuracy: 99.7140%\n",
            "Train Epoch: 8 [44800/60000 (75%)]\tLoss: 0.000272\tAccuracy: 99.6879%\n",
            "Train Epoch: 8 [51200/60000 (85%)]\tLoss: 0.046788\tAccuracy: 99.6567%\n",
            "Train Epoch: 8 [57600/60000 (96%)]\tLoss: 0.005381\tAccuracy: 99.6306%\n",
            "Train Epoch: 9 [0/60000 (0%)]\tLoss: 0.059808\tAccuracy: 98.4375%\n",
            "Train Epoch: 9 [6400/60000 (11%)]\tLoss: 0.000445\tAccuracy: 99.6287%\n",
            "Train Epoch: 9 [12800/60000 (21%)]\tLoss: 0.004089\tAccuracy: 99.6035%\n",
            "Train Epoch: 9 [19200/60000 (32%)]\tLoss: 0.000279\tAccuracy: 99.6262%\n",
            "Train Epoch: 9 [25600/60000 (43%)]\tLoss: 0.000966\tAccuracy: 99.6454%\n",
            "Train Epoch: 9 [32000/60000 (53%)]\tLoss: 0.095736\tAccuracy: 99.5977%\n",
            "Train Epoch: 9 [38400/60000 (64%)]\tLoss: 0.011147\tAccuracy: 99.5710%\n",
            "Train Epoch: 9 [44800/60000 (75%)]\tLoss: 0.000248\tAccuracy: 99.5698%\n",
            "Train Epoch: 9 [51200/60000 (85%)]\tLoss: 0.005669\tAccuracy: 99.5552%\n",
            "Train Epoch: 9 [57600/60000 (96%)]\tLoss: 0.009905\tAccuracy: 99.5387%\n"
          ]
        }
      ],
      "source": [
        "\n",
        "epochs = 10\n",
        "for epoch in range(epochs):\n",
        "    model.train()\n",
        "    correct = 0\n",
        "    total = 0\n",
        "    for batch_idx, (data, target) in enumerate(train_loader):\n",
        "        optimizer.zero_grad()\n",
        "        output = model(data)\n",
        "        loss = F.nll_loss(output, target)\n",
        "        loss.backward()\n",
        "        optimizer.step()\n",
        "\n",
        "        if batch_idx % 100 == 0:\n",
        "            accuracy = 100. * correct / total\n",
        "            print(f'Train Epoch: {epoch} [{batch_idx * len(data)}/{len(train_loader.dataset)} ({100. * batch_idx / len(train_loader):.0f}%)]\\tLoss: {loss.item():.6f}')\n"
      ]
    },
    {
      "cell_type": "markdown",
      "id": "82f30820",
      "metadata": {
        "id": "82f30820"
      },
      "source": [
        "### Training Loop:\n",
        "* For each epoch, the model is set to training mode.\n",
        "* For each batch, gradients are reset, forward pass is performed, loss is computed, backpropagation is done, and optimizer updates the weights.\n",
        "* The loss is printed every 100 batches for monitoring progress."
      ]
    },
    {
      "cell_type": "markdown",
      "id": "e29a4e43",
      "metadata": {
        "id": "e29a4e43"
      },
      "source": [
        "## Step 4: Model Evaluation and Hyperparameter Tuning"
      ]
    },
    {
      "cell_type": "markdown",
      "id": "6812bfa4",
      "metadata": {
        "id": "6812bfa4"
      },
      "source": [
        "### 4.1 Evaluate the Network\n",
        "* After training, we evaluate the network on the test dataset to see how well it performs."
      ]
    },
    {
      "cell_type": "code",
      "execution_count": 12,
      "id": "fe7a5ff4",
      "metadata": {
        "colab": {
          "base_uri": "https://localhost:8080/"
        },
        "id": "fe7a5ff4",
        "outputId": "982f36c0-df6a-4d8d-b087-b1fe15f0e41e"
      },
      "outputs": [
        {
          "name": "stdout",
          "output_type": "stream",
          "text": [
            "\n",
            "Test set: Average loss: 0.1403, Accuracy: 9748/10000 (97%)\n",
            "\n"
          ]
        }
      ],
      "source": [
        "model.eval()\n",
        "test_loss = 0\n",
        "correct = 0\n",
        "with torch.no_grad():\n",
        "    for data, target in test_loader:\n",
        "        output = model(data)\n",
        "        test_loss += F.nll_loss(output, target, reduction='sum').item()\n",
        "        pred = output.argmax(dim=1, keepdim=True)\n",
        "        correct += pred.eq(target.view_as(pred)).sum().item()\n",
        "\n",
        "test_loss /= len(test_loader.dataset)\n",
        "accuracy = 100. * correct / len(test_loader.dataset)\n",
        "\n",
        "print(f'\\nTest set: Average loss: {test_loss:.4f}, Accuracy: {correct}/{len(test_loader.dataset)} ({accuracy:.0f}%)\\n')\n"
      ]
    },
    {
      "cell_type": "markdown",
      "id": "46be17a0",
      "metadata": {
        "id": "46be17a0"
      },
      "source": [
        "### Evaluation:\n",
        "* The model is set to evaluation mode.\n",
        "* The test data is processed without computing gradients (no_grad()), reducing memory usage and speeding up computations.\n",
        "* The total loss and number of correct predictions are accumulated.\n",
        "* The average loss and accuracy are calculated and printed."
      ]
    },
    {
      "cell_type": "code",
      "execution_count": 10,
      "id": "3380db2a",
      "metadata": {
        "id": "3380db2a"
      },
      "outputs": [],
      "source": [
        "torch.save(model.state_dict(), 'mnist_model.pth')"
      ]
    },
    {
      "cell_type": "code",
      "execution_count": null,
      "id": "PkYLPf6_kTEQ",
      "metadata": {
        "id": "PkYLPf6_kTEQ"
      },
      "outputs": [],
      "source": []
    }
  ],
  "metadata": {
    "accelerator": "GPU",
    "colab": {
      "gpuType": "T4",
      "provenance": []
    },
    "kernelspec": {
      "display_name": "Python 3",
      "name": "python3"
    },
    "language_info": {
      "codemirror_mode": {
        "name": "ipython",
        "version": 3
      },
      "file_extension": ".py",
      "mimetype": "text/x-python",
      "name": "python",
      "nbconvert_exporter": "python",
      "pygments_lexer": "ipython3",
      "version": "3.10.9"
    }
  },
  "nbformat": 4,
  "nbformat_minor": 5
}
