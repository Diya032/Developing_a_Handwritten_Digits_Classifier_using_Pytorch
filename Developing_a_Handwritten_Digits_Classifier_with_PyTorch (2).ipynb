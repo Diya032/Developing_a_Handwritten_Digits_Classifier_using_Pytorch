{
  "cells": [
    {
      "cell_type": "markdown",
      "id": "ef384a90",
      "metadata": {
        "id": "ef384a90"
      },
      "source": [
        "# Step 1: Data Preparation\n"
      ]
    },
    {
      "cell_type": "markdown",
      "id": "b65022b8",
      "metadata": {
        "id": "b65022b8"
      },
      "source": [
        "\n",
        "## 1.1 Load the Dataset"
      ]
    },
    {
      "cell_type": "code",
      "execution_count": 1,
      "id": "8d2956b1",
      "metadata": {
        "colab": {
          "base_uri": "https://localhost:8080/"
        },
        "id": "8d2956b1",
        "outputId": "8477392f-2aeb-4c33-97d9-ce87c64a3010"
      },
      "outputs": [
        {
          "output_type": "stream",
          "name": "stdout",
          "text": [
            "Requirement already satisfied: torchvision in /usr/local/lib/python3.10/dist-packages (0.17.1+cu121)\n",
            "Requirement already satisfied: numpy in /usr/local/lib/python3.10/dist-packages (from torchvision) (1.25.2)\n",
            "Requirement already satisfied: torch==2.2.1 in /usr/local/lib/python3.10/dist-packages (from torchvision) (2.2.1+cu121)\n",
            "Requirement already satisfied: pillow!=8.3.*,>=5.3.0 in /usr/local/lib/python3.10/dist-packages (from torchvision) (9.4.0)\n",
            "Requirement already satisfied: filelock in /usr/local/lib/python3.10/dist-packages (from torch==2.2.1->torchvision) (3.14.0)\n",
            "Requirement already satisfied: typing-extensions>=4.8.0 in /usr/local/lib/python3.10/dist-packages (from torch==2.2.1->torchvision) (4.11.0)\n",
            "Requirement already satisfied: sympy in /usr/local/lib/python3.10/dist-packages (from torch==2.2.1->torchvision) (1.12)\n",
            "Requirement already satisfied: networkx in /usr/local/lib/python3.10/dist-packages (from torch==2.2.1->torchvision) (3.3)\n",
            "Requirement already satisfied: jinja2 in /usr/local/lib/python3.10/dist-packages (from torch==2.2.1->torchvision) (3.1.4)\n",
            "Requirement already satisfied: fsspec in /usr/local/lib/python3.10/dist-packages (from torch==2.2.1->torchvision) (2023.6.0)\n",
            "Collecting nvidia-cuda-nvrtc-cu12==12.1.105 (from torch==2.2.1->torchvision)\n",
            "  Using cached nvidia_cuda_nvrtc_cu12-12.1.105-py3-none-manylinux1_x86_64.whl (23.7 MB)\n",
            "Collecting nvidia-cuda-runtime-cu12==12.1.105 (from torch==2.2.1->torchvision)\n",
            "  Using cached nvidia_cuda_runtime_cu12-12.1.105-py3-none-manylinux1_x86_64.whl (823 kB)\n",
            "Collecting nvidia-cuda-cupti-cu12==12.1.105 (from torch==2.2.1->torchvision)\n",
            "  Using cached nvidia_cuda_cupti_cu12-12.1.105-py3-none-manylinux1_x86_64.whl (14.1 MB)\n",
            "Collecting nvidia-cudnn-cu12==8.9.2.26 (from torch==2.2.1->torchvision)\n",
            "  Using cached nvidia_cudnn_cu12-8.9.2.26-py3-none-manylinux1_x86_64.whl (731.7 MB)\n",
            "Collecting nvidia-cublas-cu12==12.1.3.1 (from torch==2.2.1->torchvision)\n",
            "  Using cached nvidia_cublas_cu12-12.1.3.1-py3-none-manylinux1_x86_64.whl (410.6 MB)\n",
            "Collecting nvidia-cufft-cu12==11.0.2.54 (from torch==2.2.1->torchvision)\n",
            "  Using cached nvidia_cufft_cu12-11.0.2.54-py3-none-manylinux1_x86_64.whl (121.6 MB)\n",
            "Collecting nvidia-curand-cu12==10.3.2.106 (from torch==2.2.1->torchvision)\n",
            "  Using cached nvidia_curand_cu12-10.3.2.106-py3-none-manylinux1_x86_64.whl (56.5 MB)\n",
            "Collecting nvidia-cusolver-cu12==11.4.5.107 (from torch==2.2.1->torchvision)\n",
            "  Using cached nvidia_cusolver_cu12-11.4.5.107-py3-none-manylinux1_x86_64.whl (124.2 MB)\n",
            "Collecting nvidia-cusparse-cu12==12.1.0.106 (from torch==2.2.1->torchvision)\n",
            "  Using cached nvidia_cusparse_cu12-12.1.0.106-py3-none-manylinux1_x86_64.whl (196.0 MB)\n",
            "Collecting nvidia-nccl-cu12==2.19.3 (from torch==2.2.1->torchvision)\n",
            "  Using cached nvidia_nccl_cu12-2.19.3-py3-none-manylinux1_x86_64.whl (166.0 MB)\n",
            "Collecting nvidia-nvtx-cu12==12.1.105 (from torch==2.2.1->torchvision)\n",
            "  Using cached nvidia_nvtx_cu12-12.1.105-py3-none-manylinux1_x86_64.whl (99 kB)\n",
            "Requirement already satisfied: triton==2.2.0 in /usr/local/lib/python3.10/dist-packages (from torch==2.2.1->torchvision) (2.2.0)\n",
            "Collecting nvidia-nvjitlink-cu12 (from nvidia-cusolver-cu12==11.4.5.107->torch==2.2.1->torchvision)\n",
            "  Using cached nvidia_nvjitlink_cu12-12.4.127-py3-none-manylinux2014_x86_64.whl (21.1 MB)\n",
            "Requirement already satisfied: MarkupSafe>=2.0 in /usr/local/lib/python3.10/dist-packages (from jinja2->torch==2.2.1->torchvision) (2.1.5)\n",
            "Requirement already satisfied: mpmath>=0.19 in /usr/local/lib/python3.10/dist-packages (from sympy->torch==2.2.1->torchvision) (1.3.0)\n",
            "Installing collected packages: nvidia-nvtx-cu12, nvidia-nvjitlink-cu12, nvidia-nccl-cu12, nvidia-curand-cu12, nvidia-cufft-cu12, nvidia-cuda-runtime-cu12, nvidia-cuda-nvrtc-cu12, nvidia-cuda-cupti-cu12, nvidia-cublas-cu12, nvidia-cusparse-cu12, nvidia-cudnn-cu12, nvidia-cusolver-cu12\n",
            "Successfully installed nvidia-cublas-cu12-12.1.3.1 nvidia-cuda-cupti-cu12-12.1.105 nvidia-cuda-nvrtc-cu12-12.1.105 nvidia-cuda-runtime-cu12-12.1.105 nvidia-cudnn-cu12-8.9.2.26 nvidia-cufft-cu12-11.0.2.54 nvidia-curand-cu12-10.3.2.106 nvidia-cusolver-cu12-11.4.5.107 nvidia-cusparse-cu12-12.1.0.106 nvidia-nccl-cu12-2.19.3 nvidia-nvjitlink-cu12-12.4.127 nvidia-nvtx-cu12-12.1.105\n"
          ]
        }
      ],
      "source": [
        "pip install torchvision"
      ]
    },
    {
      "cell_type": "code",
      "execution_count": 4,
      "id": "74408b78",
      "metadata": {
        "colab": {
          "base_uri": "https://localhost:8080/"
        },
        "id": "74408b78",
        "outputId": "e5225c2b-b915-4e1e-ce76-ec82ff57c97a"
      },
      "outputs": [
        {
          "output_type": "stream",
          "name": "stdout",
          "text": [
            "Downloading http://yann.lecun.com/exdb/mnist/train-images-idx3-ubyte.gz\n",
            "Failed to download (trying next):\n",
            "HTTP Error 403: Forbidden\n",
            "\n",
            "Downloading https://ossci-datasets.s3.amazonaws.com/mnist/train-images-idx3-ubyte.gz\n",
            "Downloading https://ossci-datasets.s3.amazonaws.com/mnist/train-images-idx3-ubyte.gz to ./data/MNIST/raw/train-images-idx3-ubyte.gz\n"
          ]
        },
        {
          "output_type": "stream",
          "name": "stderr",
          "text": [
            "100%|██████████| 9912422/9912422 [00:00<00:00, 42194150.91it/s]\n"
          ]
        },
        {
          "output_type": "stream",
          "name": "stdout",
          "text": [
            "Extracting ./data/MNIST/raw/train-images-idx3-ubyte.gz to ./data/MNIST/raw\n",
            "\n",
            "Downloading http://yann.lecun.com/exdb/mnist/train-labels-idx1-ubyte.gz\n",
            "Failed to download (trying next):\n",
            "HTTP Error 403: Forbidden\n",
            "\n",
            "Downloading https://ossci-datasets.s3.amazonaws.com/mnist/train-labels-idx1-ubyte.gz\n",
            "Downloading https://ossci-datasets.s3.amazonaws.com/mnist/train-labels-idx1-ubyte.gz to ./data/MNIST/raw/train-labels-idx1-ubyte.gz\n"
          ]
        },
        {
          "output_type": "stream",
          "name": "stderr",
          "text": [
            "100%|██████████| 28881/28881 [00:00<00:00, 1091578.08it/s]\n"
          ]
        },
        {
          "output_type": "stream",
          "name": "stdout",
          "text": [
            "Extracting ./data/MNIST/raw/train-labels-idx1-ubyte.gz to ./data/MNIST/raw\n",
            "\n",
            "Downloading http://yann.lecun.com/exdb/mnist/t10k-images-idx3-ubyte.gz\n",
            "Failed to download (trying next):\n",
            "HTTP Error 403: Forbidden\n",
            "\n",
            "Downloading https://ossci-datasets.s3.amazonaws.com/mnist/t10k-images-idx3-ubyte.gz\n",
            "Downloading https://ossci-datasets.s3.amazonaws.com/mnist/t10k-images-idx3-ubyte.gz to ./data/MNIST/raw/t10k-images-idx3-ubyte.gz\n"
          ]
        },
        {
          "output_type": "stream",
          "name": "stderr",
          "text": [
            "100%|██████████| 1648877/1648877 [00:00<00:00, 9462054.59it/s]\n"
          ]
        },
        {
          "output_type": "stream",
          "name": "stdout",
          "text": [
            "Extracting ./data/MNIST/raw/t10k-images-idx3-ubyte.gz to ./data/MNIST/raw\n",
            "\n",
            "Downloading http://yann.lecun.com/exdb/mnist/t10k-labels-idx1-ubyte.gz\n",
            "Failed to download (trying next):\n",
            "HTTP Error 403: Forbidden\n",
            "\n",
            "Downloading https://ossci-datasets.s3.amazonaws.com/mnist/t10k-labels-idx1-ubyte.gz\n",
            "Downloading https://ossci-datasets.s3.amazonaws.com/mnist/t10k-labels-idx1-ubyte.gz to ./data/MNIST/raw/t10k-labels-idx1-ubyte.gz\n"
          ]
        },
        {
          "output_type": "stream",
          "name": "stderr",
          "text": [
            "100%|██████████| 4542/4542 [00:00<00:00, 5057214.96it/s]"
          ]
        },
        {
          "output_type": "stream",
          "name": "stdout",
          "text": [
            "Extracting ./data/MNIST/raw/t10k-labels-idx1-ubyte.gz to ./data/MNIST/raw\n",
            "\n"
          ]
        },
        {
          "output_type": "stream",
          "name": "stderr",
          "text": [
            "\n"
          ]
        }
      ],
      "source": [
        "import torch\n",
        "from torchvision import datasets, transforms\n",
        "\n",
        "transform = transforms.Compose([\n",
        "    transforms.ToTensor(),  # Converts the image to a PyTorch tensor\n",
        "    transforms.Normalize((0.1307,), (0.3081,))  # Normalizes the tensor\n",
        "])\n",
        "\n",
        "train_dataset = datasets.MNIST(root='./data', train=True, download=True, transform=transform)\n",
        "test_dataset = datasets.MNIST(root='./data', train=False, download=True, transform=transform)\n"
      ]
    },
    {
      "cell_type": "markdown",
      "id": "994a8504",
      "metadata": {
        "id": "994a8504"
      },
      "source": [
        "### Transforms:\n",
        "* ToTensor(): Converts the image from a PIL Image or numpy array to a PyTorch tensor.\n",
        "\n",
        "* Normalize(mean, std): Normalizes the image tensor with the given mean and standard deviation. This standardization helps in speeding up the training and achieving better convergence by ensuring that the input data has a mean of 0 and a standard deviation of 1."
      ]
    },
    {
      "cell_type": "markdown",
      "id": "4985503e",
      "metadata": {
        "id": "4985503e"
      },
      "source": [
        "## 1.2 Create DataLoader\n",
        "* DataLoader is used to load the dataset in batches, which makes the training process more efficient."
      ]
    },
    {
      "cell_type": "code",
      "execution_count": 5,
      "id": "0a0d5640",
      "metadata": {
        "id": "0a0d5640"
      },
      "outputs": [],
      "source": [
        "from torch.utils.data import DataLoader, random_split\n",
        "\n",
        "# Define the split ratio for the validation set\n",
        "validation_split_ratio = 0.2\n",
        "train_size = int((1 - validation_split_ratio) * len(train_dataset))\n",
        "val_size = len(train_dataset) - train_size\n",
        "\n",
        "# Split the train_dataset into training and validation sets\n",
        "train_subset, val_subset = random_split(train_dataset, [train_size, val_size])\n",
        "\n",
        "# Create DataLoaders for training, validation, and test sets\n",
        "train_loader = DataLoader(dataset=train_subset, batch_size=64, shuffle=True)\n",
        "validation_loader = DataLoader(dataset=val_subset, batch_size=500, shuffle=False)\n",
        "test_loader = DataLoader(dataset=test_dataset, batch_size=1000, shuffle=False)\n"
      ]
    },
    {
      "cell_type": "markdown",
      "id": "72d0c219",
      "metadata": {
        "id": "72d0c219"
      },
      "source": [
        "### DataLoader:\n",
        "\n",
        "* 80:20 ratio split of train_dataset into train_subset, val_subset\n",
        "\n",
        "* train_loader: Loads the train_subset in batches of 64 images and shuffles them to ensure that the model doesn't learn the order of the data.\n",
        "\n",
        "* test_loader: Loads the test data in batches of 1000 images for evaluation purposes.\n",
        "\n",
        "* validation_loader: Loads val_subset in batches of 500 images and shuffles them to ensure that the moedl doesn't learn the order of the data."
      ]
    },
    {
      "cell_type": "markdown",
      "id": "7fd8f25b",
      "metadata": {
        "id": "7fd8f25b"
      },
      "source": [
        "# Step 2: Data Visualization and Exploration"
      ]
    },
    {
      "cell_type": "markdown",
      "id": "cad05f63",
      "metadata": {
        "id": "cad05f63"
      },
      "source": [
        "## 2.1 Visualize the Dataset\n",
        "* Visualizing the data helps in understanding what the input images look like."
      ]
    },
    {
      "cell_type": "code",
      "execution_count": 6,
      "id": "0409bced",
      "metadata": {
        "colab": {
          "base_uri": "https://localhost:8080/",
          "height": 438
        },
        "id": "0409bced",
        "outputId": "c545eaa8-5107-4e70-f8b6-c45a713546d4"
      },
      "outputs": [
        {
          "output_type": "display_data",
          "data": {
            "text/plain": [
              "<Figure size 640x480 with 6 Axes>"
            ],
            "image/png": "[encoded data removed]"
          },
          "metadata": {}
        }
      ],
      "source": [
        "import matplotlib.pyplot as plt\n",
        "\n",
        "examples = enumerate(train_loader)\n",
        "batch_idx, (example_data, example_targets) = next(examples)\n",
        "\n",
        "fig = plt.figure()\n",
        "for i in range(6):\n",
        "    plt.subplot(2, 3, i+1)\n",
        "    plt.tight_layout()\n",
        "    plt.imshow(example_data[i][0], cmap='gray', interpolation='none')\n",
        "    plt.title(f\"Ground Truth: {example_targets[i]}\")\n",
        "    plt.xticks([])\n",
        "    plt.yticks([])\n",
        "plt.show()\n"
      ]
    },
    {
      "cell_type": "markdown",
      "id": "f7ed9c81",
      "metadata": {
        "id": "f7ed9c81"
      },
      "source": [
        "### Visualization:\n",
        "* We take a batch of images from the train_loader.\n",
        "* Plot the first 6 images in a 2x3 grid using Matplotlib.\n",
        "* 1This gives a visual confirmation that our data is loaded and preprocessed correctly."
      ]
    },
    {
      "cell_type": "markdown",
      "id": "e3b6dd7c",
      "metadata": {
        "id": "e3b6dd7c"
      },
      "source": [
        "## 2.2 Explore Data Size and Shape\n",
        "\n",
        "* Exploring the size and shape ensures that the data matches the expected input dimensions for the neural network.\n",
        "* This prints the shape of a batch of images, which should be (64, 1, 28, 28) for the training loader, indicating 64 images of size 28x28 pixels with 1 color channel (grayscale)."
      ]
    },
    {
      "cell_type": "code",
      "execution_count": 12,
      "id": "2fda5bc9",
      "metadata": {
        "colab": {
          "base_uri": "https://localhost:8080/"
        },
        "id": "2fda5bc9",
        "outputId": "186634c0-7ceb-49e9-a834-c9b9cb3543ec"
      },
      "outputs": [
        {
          "output_type": "stream",
          "name": "stdout",
          "text": [
            "torch.Size([64, 1, 28, 28])\n"
          ]
        }
      ],
      "source": [
        "print(example_data.shape) # Should output (batch_size, 1, 28, 28)"
      ]
    },
    {
      "cell_type": "markdown",
      "id": "b9327e08",
      "metadata": {
        "id": "b9327e08"
      },
      "source": [
        "# Step 3: Building and Training the Neural Network"
      ]
    },
    {
      "cell_type": "markdown",
      "id": "1fb2461e",
      "metadata": {
        "id": "1fb2461e"
      },
      "source": [
        "## 3.1 Build the Neural Network\n",
        "* We define a simple fully connected neural network (also called a feedforward neural network).\n"
      ]
    },
    {
      "cell_type": "code",
      "execution_count": 7,
      "id": "b9fb3b6c",
      "metadata": {
        "id": "b9fb3b6c"
      },
      "outputs": [],
      "source": [
        "import torch.nn as nn\n",
        "import torch.nn.functional as F\n",
        "\n",
        "class Net(nn.Module):\n",
        "    def __init__(self):\n",
        "        super(Net, self).__init__()\n",
        "        self.fc1 = nn.Linear(784, 512)  # for MNIST dataset (28*28)\n",
        "        self.dropout1 = nn.Dropout(p=0.5)\n",
        "        self.fc2 = nn.Linear(512, 256)\n",
        "        self.dropout2 = nn.Dropout(p=0.5)\n",
        "        self.fc3 = nn.Linear(256, 10)\n",
        "\n",
        "    def forward(self, x):\n",
        "        x = x.view(-1, 784)  # Flatten the input tensor\n",
        "        x = F.relu(self.fc1(x))\n",
        "        x = self.dropout1(x)\n",
        "        x = F.relu(self.fc2(x))\n",
        "        x = self.dropout2(x)\n",
        "        x = self.fc3(x)\n",
        "        return F.log_softmax(x, dim=1)\n",
        "\n",
        "model = Net()\n"
      ]
    },
    {
      "cell_type": "code",
      "source": [
        "import torch.nn as nn\n",
        "import torch.nn.functional as F\n",
        "\n",
        "class CNN(nn.Module):\n",
        "    def __init__(self):\n",
        "        super(CNN, self).__init__()\n",
        "        self.conv1 = nn.Conv2d(1, 32, kernel_size=3, padding=1)\n",
        "        self.conv2 = nn.Conv2d(32, 64, kernel_size=3, padding=1)\n",
        "        self.conv3 = nn.Conv2d(64, 128, kernel_size=3, padding=1)\n",
        "        self.pool = nn.MaxPool2d(kernel_size=2, stride=2)\n",
        "        self.dropout = nn.Dropout(p=0.5)\n",
        "        self.fc1 = nn.Linear(128 * 3 * 3, 256)\n",
        "        self.fc2 = nn.Linear(256, 10)\n",
        "\n",
        "    def forward(self, x):\n",
        "        x = self.pool(F.relu(self.conv1(x)))\n",
        "        x = self.pool(F.relu(self.conv2(x)))\n",
        "        x = self.pool(F.relu(self.conv3(x)))\n",
        "        x = x.view(-1, 128 * 3 * 3)\n",
        "        x = F.relu(self.fc1(x))\n",
        "        x = self.dropout(x)\n",
        "        x = self.fc2(x)\n",
        "        return F.log_softmax(x, dim=1)\n"
      ],
      "metadata": {
        "id": "rGiBFfu3-qfl"
      },
      "id": "rGiBFfu3-qfl",
      "execution_count": 14,
      "outputs": []
    },
    {
      "cell_type": "markdown",
      "id": "7bb40698",
      "metadata": {
        "id": "7bb40698"
      },
      "source": [
        "## 3.2 Create an Optimizer\n",
        "* An optimizer is used to update the weights of the network based on the computed gradients."
      ]
    },
    {
      "cell_type": "code",
      "execution_count": 8,
      "id": "f6a2052c",
      "metadata": {
        "id": "f6a2052c"
      },
      "outputs": [],
      "source": [
        "# For 3 layered architecture\n",
        "optimizer = torch.optim.SGD(model.parameters(), lr=0.01, momentum=0.9)"
      ]
    },
    {
      "cell_type": "markdown",
      "id": "08eeadd5",
      "metadata": {
        "id": "08eeadd5"
      },
      "source": [
        "* Adam Optimizer: An adaptive learning rate optimization algorithm that's popular for its efficiency and performance. The learning rate is set to 0.001.\n",
        "\n",
        "* SGD: Stochastic Gradient descent"
      ]
    },
    {
      "cell_type": "markdown",
      "id": "24e9fe9e",
      "metadata": {
        "id": "24e9fe9e"
      },
      "source": [
        "## 3.3 Train the Network\n",
        "* The training loop processes each batch of training data, computes the loss, performs backpropagation, and updates the weights."
      ]
    },
    {
      "cell_type": "code",
      "execution_count": 9,
      "id": "a10d2ab8",
      "metadata": {
        "colab": {
          "base_uri": "https://localhost:8080/"
        },
        "id": "a10d2ab8",
        "outputId": "3690e26d-8ac7-401b-caac-5bfa6d897619"
      },
      "outputs": [
        {
          "output_type": "stream",
          "name": "stdout",
          "text": [
            "Train Epoch: 0 [0/48000 (0%)]\tLoss: 2.272760\tAccuracy: 12.5000%\n",
            "Train Epoch: 0 [6400/48000 (13%)]\tLoss: 0.717398\tAccuracy: 61.1850%\n",
            "Train Epoch: 0 [12800/48000 (27%)]\tLoss: 0.433736\tAccuracy: 72.8001%\n",
            "Train Epoch: 0 [19200/48000 (40%)]\tLoss: 0.320363\tAccuracy: 78.0835%\n",
            "Train Epoch: 0 [25600/48000 (53%)]\tLoss: 0.196594\tAccuracy: 81.1331%\n",
            "Train Epoch: 0 [32000/48000 (67%)]\tLoss: 0.240288\tAccuracy: 83.1462%\n",
            "Train Epoch: 0 [38400/48000 (80%)]\tLoss: 0.182470\tAccuracy: 84.5466%\n",
            "Train Epoch: 0 [44800/48000 (93%)]\tLoss: 0.353139\tAccuracy: 85.5965%\n",
            "\n",
            "Validation set: Epoch: 0 Average loss: 0.1738, Accuracy: 11375/12000 (94.7917%)\n",
            "\n",
            "Train Epoch: 1 [0/48000 (0%)]\tLoss: 0.095596\tAccuracy: 96.8750%\n",
            "Train Epoch: 1 [6400/48000 (13%)]\tLoss: 0.258926\tAccuracy: 93.4406%\n",
            "Train Epoch: 1 [12800/48000 (27%)]\tLoss: 0.186827\tAccuracy: 93.4546%\n",
            "Train Epoch: 1 [19200/48000 (40%)]\tLoss: 0.092838\tAccuracy: 93.6410%\n",
            "Train Epoch: 1 [25600/48000 (53%)]\tLoss: 0.182763\tAccuracy: 93.6097%\n",
            "Train Epoch: 1 [32000/48000 (67%)]\tLoss: 0.095916\tAccuracy: 93.7157%\n",
            "Train Epoch: 1 [38400/48000 (80%)]\tLoss: 0.129135\tAccuracy: 93.8852%\n",
            "Train Epoch: 1 [44800/48000 (93%)]\tLoss: 0.064030\tAccuracy: 93.9484%\n",
            "\n",
            "Validation set: Epoch: 1 Average loss: 0.1224, Accuracy: 11563/12000 (96.3583%)\n",
            "\n",
            "Train Epoch: 2 [0/48000 (0%)]\tLoss: 0.212589\tAccuracy: 93.7500%\n",
            "Train Epoch: 2 [6400/48000 (13%)]\tLoss: 0.062609\tAccuracy: 95.5910%\n",
            "Train Epoch: 2 [12800/48000 (27%)]\tLoss: 0.051497\tAccuracy: 95.3514%\n",
            "Train Epoch: 2 [19200/48000 (40%)]\tLoss: 0.086756\tAccuracy: 95.4838%\n",
            "Train Epoch: 2 [25600/48000 (53%)]\tLoss: 0.172020\tAccuracy: 95.3671%\n",
            "Train Epoch: 2 [32000/48000 (67%)]\tLoss: 0.172159\tAccuracy: 95.3219%\n",
            "Train Epoch: 2 [38400/48000 (80%)]\tLoss: 0.233519\tAccuracy: 95.3697%\n",
            "Train Epoch: 2 [44800/48000 (93%)]\tLoss: 0.079789\tAccuracy: 95.3838%\n",
            "\n",
            "Validation set: Epoch: 2 Average loss: 0.1059, Accuracy: 11622/12000 (96.8500%)\n",
            "\n",
            "Train Epoch: 3 [0/48000 (0%)]\tLoss: 0.110220\tAccuracy: 96.8750%\n",
            "Train Epoch: 3 [6400/48000 (13%)]\tLoss: 0.062198\tAccuracy: 95.9468%\n",
            "Train Epoch: 3 [12800/48000 (27%)]\tLoss: 0.042856\tAccuracy: 95.7556%\n",
            "Train Epoch: 3 [19200/48000 (40%)]\tLoss: 0.120058\tAccuracy: 96.0912%\n",
            "Train Epoch: 3 [25600/48000 (53%)]\tLoss: 0.142240\tAccuracy: 96.1074%\n",
            "Train Epoch: 3 [32000/48000 (67%)]\tLoss: 0.060724\tAccuracy: 96.0485%\n",
            "Train Epoch: 3 [38400/48000 (80%)]\tLoss: 0.053352\tAccuracy: 96.0769%\n",
            "Train Epoch: 3 [44800/48000 (93%)]\tLoss: 0.130461\tAccuracy: 96.0347%\n",
            "\n",
            "Validation set: Epoch: 3 Average loss: 0.0947, Accuracy: 11656/12000 (97.1333%)\n",
            "\n",
            "Train Epoch: 4 [0/48000 (0%)]\tLoss: 0.146075\tAccuracy: 95.3125%\n",
            "Train Epoch: 4 [6400/48000 (13%)]\tLoss: 0.046513\tAccuracy: 96.9524%\n",
            "Train Epoch: 4 [12800/48000 (27%)]\tLoss: 0.186598\tAccuracy: 96.5641%\n",
            "Train Epoch: 4 [19200/48000 (40%)]\tLoss: 0.097505\tAccuracy: 96.6518%\n",
            "Train Epoch: 4 [25600/48000 (53%)]\tLoss: 0.057486\tAccuracy: 96.5945%\n",
            "Train Epoch: 4 [32000/48000 (67%)]\tLoss: 0.164507\tAccuracy: 96.5974%\n",
            "Train Epoch: 4 [38400/48000 (80%)]\tLoss: 0.148847\tAccuracy: 96.6046%\n",
            "Train Epoch: 4 [44800/48000 (93%)]\tLoss: 0.074200\tAccuracy: 96.6075%\n",
            "\n",
            "Validation set: Epoch: 4 Average loss: 0.0876, Accuracy: 11677/12000 (97.3083%)\n",
            "\n",
            "Train Epoch: 5 [0/48000 (0%)]\tLoss: 0.058989\tAccuracy: 96.8750%\n",
            "Train Epoch: 5 [6400/48000 (13%)]\tLoss: 0.029361\tAccuracy: 96.9678%\n",
            "Train Epoch: 5 [12800/48000 (27%)]\tLoss: 0.127924\tAccuracy: 96.7584%\n",
            "Train Epoch: 5 [19200/48000 (40%)]\tLoss: 0.060142\tAccuracy: 96.8335%\n",
            "Train Epoch: 5 [25600/48000 (53%)]\tLoss: 0.118104\tAccuracy: 96.8399%\n",
            "Train Epoch: 5 [32000/48000 (67%)]\tLoss: 0.160981\tAccuracy: 96.8625%\n",
            "Train Epoch: 5 [38400/48000 (80%)]\tLoss: 0.139315\tAccuracy: 96.8568%\n",
            "Train Epoch: 5 [44800/48000 (93%)]\tLoss: 0.074256\tAccuracy: 96.8393%\n",
            "\n",
            "Validation set: Epoch: 5 Average loss: 0.0813, Accuracy: 11708/12000 (97.5667%)\n",
            "\n",
            "Train Epoch: 6 [0/48000 (0%)]\tLoss: 0.096309\tAccuracy: 95.3125%\n",
            "Train Epoch: 6 [6400/48000 (13%)]\tLoss: 0.129397\tAccuracy: 97.1380%\n",
            "Train Epoch: 6 [12800/48000 (27%)]\tLoss: 0.084062\tAccuracy: 97.1704%\n",
            "Train Epoch: 6 [19200/48000 (40%)]\tLoss: 0.054282\tAccuracy: 97.1086%\n",
            "Train Epoch: 6 [25600/48000 (53%)]\tLoss: 0.282940\tAccuracy: 97.1088%\n",
            "Train Epoch: 6 [32000/48000 (67%)]\tLoss: 0.021028\tAccuracy: 97.0933%\n",
            "Train Epoch: 6 [38400/48000 (80%)]\tLoss: 0.150644\tAccuracy: 97.1194%\n",
            "Train Epoch: 6 [44800/48000 (93%)]\tLoss: 0.112604\tAccuracy: 97.1180%\n",
            "\n",
            "Validation set: Epoch: 6 Average loss: 0.0782, Accuracy: 11719/12000 (97.6583%)\n",
            "\n",
            "Train Epoch: 7 [0/48000 (0%)]\tLoss: 0.056139\tAccuracy: 98.4375%\n",
            "Train Epoch: 7 [6400/48000 (13%)]\tLoss: 0.200616\tAccuracy: 97.4938%\n",
            "Train Epoch: 7 [12800/48000 (27%)]\tLoss: 0.027770\tAccuracy: 97.5202%\n",
            "Train Epoch: 7 [19200/48000 (40%)]\tLoss: 0.051496\tAccuracy: 97.5862%\n",
            "Train Epoch: 7 [25600/48000 (53%)]\tLoss: 0.056573\tAccuracy: 97.4790%\n",
            "Train Epoch: 7 [32000/48000 (67%)]\tLoss: 0.165589\tAccuracy: 97.4208%\n",
            "Train Epoch: 7 [38400/48000 (80%)]\tLoss: 0.279847\tAccuracy: 97.4184%\n",
            "Train Epoch: 7 [44800/48000 (93%)]\tLoss: 0.020879\tAccuracy: 97.4278%\n",
            "\n",
            "Validation set: Epoch: 7 Average loss: 0.0757, Accuracy: 11742/12000 (97.8500%)\n",
            "\n",
            "Train Epoch: 8 [0/48000 (0%)]\tLoss: 0.105152\tAccuracy: 96.8750%\n",
            "Train Epoch: 8 [6400/48000 (13%)]\tLoss: 0.048249\tAccuracy: 97.6640%\n",
            "Train Epoch: 8 [12800/48000 (27%)]\tLoss: 0.025491\tAccuracy: 97.6912%\n",
            "Train Epoch: 8 [19200/48000 (40%)]\tLoss: 0.173566\tAccuracy: 97.7263%\n",
            "Train Epoch: 8 [25600/48000 (53%)]\tLoss: 0.040919\tAccuracy: 97.6972%\n",
            "Train Epoch: 8 [32000/48000 (67%)]\tLoss: 0.024815\tAccuracy: 97.6329%\n",
            "Train Epoch: 8 [38400/48000 (80%)]\tLoss: 0.092436\tAccuracy: 97.5588%\n",
            "Train Epoch: 8 [44800/48000 (93%)]\tLoss: 0.161507\tAccuracy: 97.5281%\n",
            "\n",
            "Validation set: Epoch: 8 Average loss: 0.0758, Accuracy: 11732/12000 (97.7667%)\n",
            "\n",
            "Train Epoch: 9 [0/48000 (0%)]\tLoss: 0.168000\tAccuracy: 95.3125%\n",
            "Train Epoch: 9 [6400/48000 (13%)]\tLoss: 0.115032\tAccuracy: 97.7723%\n",
            "Train Epoch: 9 [12800/48000 (27%)]\tLoss: 0.173193\tAccuracy: 97.7690%\n",
            "Train Epoch: 9 [19200/48000 (40%)]\tLoss: 0.160161\tAccuracy: 97.6485%\n",
            "Train Epoch: 9 [25600/48000 (53%)]\tLoss: 0.015807\tAccuracy: 97.6582%\n",
            "Train Epoch: 9 [32000/48000 (67%)]\tLoss: 0.025048\tAccuracy: 97.6952%\n",
            "Train Epoch: 9 [38400/48000 (80%)]\tLoss: 0.140222\tAccuracy: 97.6783%\n",
            "Train Epoch: 9 [44800/48000 (93%)]\tLoss: 0.036408\tAccuracy: 97.6997%\n",
            "\n",
            "Validation set: Epoch: 9 Average loss: 0.0759, Accuracy: 11737/12000 (97.8083%)\n",
            "\n"
          ]
        }
      ],
      "source": [
        "# FOR FULLY CONNECTED NETWORK (3 layer, dropout, ReLU, softmax)(784->512->256->10)\n",
        "epochs = 10\n",
        "train_losses = []\n",
        "train_accuracies = []\n",
        "val_losses = []\n",
        "val_accuracies = []\n",
        "\n",
        "# Regularization (Dropout)\n",
        "dropout = torch.nn.Dropout(p=0.5)\n",
        "\n",
        "for epoch in range(epochs):\n",
        "    # Training phase\n",
        "    model.train()\n",
        "    correct = 0\n",
        "    total = 0\n",
        "    running_loss = 0.0\n",
        "    for batch_idx, (data, target) in enumerate(train_loader):\n",
        "        optimizer.zero_grad()\n",
        "        output = model(data)\n",
        "        loss = F.nll_loss(output, target)\n",
        "        loss.backward()\n",
        "        optimizer.step()\n",
        "\n",
        "        running_loss += loss.item()\n",
        "        _, predicted = torch.max(output.data, 1)\n",
        "        total += target.size(0)\n",
        "        correct += (predicted == target).sum().item()\n",
        "\n",
        "        if batch_idx % 100 == 0:\n",
        "            accuracy = 100. * correct / total\n",
        "            print(f'Train Epoch: {epoch} [{batch_idx * len(data)}/{len(train_loader.dataset)} ({100. * batch_idx / len(train_loader):.0f}%)]\\tLoss: {loss.item():.6f}\\tAccuracy: {accuracy:.4f}%')\n",
        "\n",
        "    train_losses.append(running_loss / len(train_loader))\n",
        "    train_accuracies.append(100. * correct / total)\n",
        "\n",
        "    # Validation phase\n",
        "    model.eval()\n",
        "    val_correct = 0\n",
        "    val_total = 0\n",
        "    val_loss = 0.0\n",
        "    with torch.no_grad():\n",
        "        for data, target in validation_loader:\n",
        "            output = model(data)\n",
        "            loss = F.nll_loss(output, target, reduction='sum').item()\n",
        "            val_loss += loss\n",
        "            _, predicted = torch.max(output.data, 1)\n",
        "            val_total += target.size(0)\n",
        "            val_correct += (predicted == target).sum().item()\n",
        "\n",
        "    val_losses.append(val_loss / val_total)\n",
        "    val_accuracies.append(100. * val_correct / val_total)\n",
        "    print(f'\\nValidation set: Epoch: {epoch} Average loss: {val_loss / val_total:.4f}, Accuracy: {val_correct}/{val_total} ({100. * val_correct / val_total:.4f}%)\\n')\n"
      ]
    },
    {
      "cell_type": "code",
      "source": [
        "# FOR CNN ARCHITECTURE\n",
        "import torch.optim as optim\n",
        "# Set device, model, optimizer, and number of epochs\n",
        "device = torch.device(\"cuda\" if torch.cuda.is_available() else \"cpu\")\n",
        "model = CNN().to(device)\n",
        "optimizer = optim.Adam(model.parameters(), lr=0.001)\n",
        "epochs = 10\n",
        "\n",
        "# Initialize lists to store losses and accuracies\n",
        "train_losses = []\n",
        "train_accuracies = []\n",
        "val_losses = []\n",
        "val_accuracies = []\n",
        "\n",
        "# Training and Validation Loop\n",
        "for epoch in range(epochs):\n",
        "    # Training phase\n",
        "    model.train()\n",
        "    correct = 0\n",
        "    total = 0\n",
        "    running_loss = 0.0\n",
        "    for batch_idx, (data, target) in enumerate(train_loader):\n",
        "        data, target = data.to(device), target.to(device)\n",
        "        optimizer.zero_grad()\n",
        "        output = model(data)\n",
        "        loss = F.nll_loss(output, target)\n",
        "        loss.backward()\n",
        "        optimizer.step()\n",
        "\n",
        "        running_loss += loss.item()\n",
        "        _, predicted = torch.max(output.data, 1)\n",
        "        total += target.size(0)\n",
        "        correct += (predicted == target).sum().item()\n",
        "\n",
        "        if batch_idx % 100 == 0:\n",
        "            accuracy = 100. * correct / total\n",
        "            print(f'Train Epoch: {epoch} [{batch_idx * len(data)}/{len(train_loader.dataset)} ({100. * batch_idx / len(train_loader):.0f}%)]\\tLoss: {loss.item():.6f}\\tAccuracy: {accuracy:.4f}%')\n",
        "\n",
        "    train_losses.append(running_loss / len(train_loader))\n",
        "    train_accuracies.append(100. * correct / total)\n",
        "\n",
        "    # Validation phase\n",
        "    model.eval()\n",
        "    val_correct = 0\n",
        "    val_total = 0\n",
        "    val_loss = 0.0\n",
        "    with torch.no_grad():\n",
        "        for data, target in validation_loader:\n",
        "            data, target = data.to(device), target.to(device)\n",
        "            output = model(data)\n",
        "            loss = F.nll_loss(output, target, reduction='sum').item()\n",
        "            val_loss += loss\n",
        "            _, predicted = torch.max(output.data, 1)\n",
        "            val_total += target.size(0)\n",
        "            val_correct += (predicted == target).sum().item()\n",
        "\n",
        "    val_losses.append(val_loss / val_total)\n",
        "    val_accuracies.append(100. * val_correct / val_total)\n",
        "    print(f'\\nValidation set: Epoch: {epoch} Average loss: {val_loss / val_total:.4f}, Accuracy: {val_correct}/{val_total} ({100. * val_correct / val_total:.4f}%)\\n')\n"
      ],
      "metadata": {
        "colab": {
          "base_uri": "https://localhost:8080/"
        },
        "id": "GHYay658AAiZ",
        "outputId": "221e4e9b-e916-4121-870c-3f0713f74e6e"
      },
      "id": "GHYay658AAiZ",
      "execution_count": 16,
      "outputs": [
        {
          "output_type": "stream",
          "name": "stdout",
          "text": [
            "Train Epoch: 0 [0/48000 (0%)]\tLoss: 2.310127\tAccuracy: 6.2500%\n",
            "Train Epoch: 0 [6400/48000 (13%)]\tLoss: 0.166101\tAccuracy: 76.8719%\n",
            "Train Epoch: 0 [12800/48000 (27%)]\tLoss: 0.097062\tAccuracy: 85.3312%\n",
            "Train Epoch: 0 [19200/48000 (40%)]\tLoss: 0.322351\tAccuracy: 88.7303%\n",
            "Train Epoch: 0 [25600/48000 (53%)]\tLoss: 0.038899\tAccuracy: 90.7029%\n",
            "Train Epoch: 0 [32000/48000 (67%)]\tLoss: 0.138187\tAccuracy: 91.8850%\n",
            "Train Epoch: 0 [38400/48000 (80%)]\tLoss: 0.053421\tAccuracy: 92.7829%\n",
            "Train Epoch: 0 [44800/48000 (93%)]\tLoss: 0.074003\tAccuracy: 93.3822%\n",
            "\n",
            "Validation set: Epoch: 0 Average loss: 0.0589, Accuracy: 11777/12000 (98.1417%)\n",
            "\n",
            "Train Epoch: 1 [0/48000 (0%)]\tLoss: 0.107129\tAccuracy: 95.3125%\n",
            "Train Epoch: 1 [6400/48000 (13%)]\tLoss: 0.008418\tAccuracy: 98.1281%\n",
            "Train Epoch: 1 [12800/48000 (27%)]\tLoss: 0.066323\tAccuracy: 97.9400%\n",
            "Train Epoch: 1 [19200/48000 (40%)]\tLoss: 0.047187\tAccuracy: 97.9444%\n",
            "Train Epoch: 1 [25600/48000 (53%)]\tLoss: 0.008585\tAccuracy: 98.0206%\n",
            "Train Epoch: 1 [32000/48000 (67%)]\tLoss: 0.225720\tAccuracy: 98.0851%\n",
            "Train Epoch: 1 [38400/48000 (80%)]\tLoss: 0.047809\tAccuracy: 98.1073%\n",
            "Train Epoch: 1 [44800/48000 (93%)]\tLoss: 0.037396\tAccuracy: 98.1054%\n",
            "\n",
            "Validation set: Epoch: 1 Average loss: 0.0368, Accuracy: 11861/12000 (98.8417%)\n",
            "\n",
            "Train Epoch: 2 [0/48000 (0%)]\tLoss: 0.025673\tAccuracy: 98.4375%\n",
            "Train Epoch: 2 [6400/48000 (13%)]\tLoss: 0.005893\tAccuracy: 98.8861%\n",
            "Train Epoch: 2 [12800/48000 (27%)]\tLoss: 0.047630\tAccuracy: 98.6241%\n",
            "Train Epoch: 2 [19200/48000 (40%)]\tLoss: 0.062760\tAccuracy: 98.5880%\n",
            "Train Epoch: 2 [25600/48000 (53%)]\tLoss: 0.146034\tAccuracy: 98.6284%\n",
            "Train Epoch: 2 [32000/48000 (67%)]\tLoss: 0.022428\tAccuracy: 98.6153%\n",
            "Train Epoch: 2 [38400/48000 (80%)]\tLoss: 0.047815\tAccuracy: 98.6377%\n",
            "Train Epoch: 2 [44800/48000 (93%)]\tLoss: 0.006246\tAccuracy: 98.5913%\n",
            "\n",
            "Validation set: Epoch: 2 Average loss: 0.0336, Accuracy: 11872/12000 (98.9333%)\n",
            "\n",
            "Train Epoch: 3 [0/48000 (0%)]\tLoss: 0.023168\tAccuracy: 98.4375%\n",
            "Train Epoch: 3 [6400/48000 (13%)]\tLoss: 0.013172\tAccuracy: 98.9480%\n",
            "Train Epoch: 3 [12800/48000 (27%)]\tLoss: 0.018813\tAccuracy: 98.9661%\n",
            "Train Epoch: 3 [19200/48000 (40%)]\tLoss: 0.021498\tAccuracy: 99.0033%\n",
            "Train Epoch: 3 [25600/48000 (53%)]\tLoss: 0.002833\tAccuracy: 99.0064%\n",
            "Train Epoch: 3 [32000/48000 (67%)]\tLoss: 0.031545\tAccuracy: 98.9084%\n",
            "Train Epoch: 3 [38400/48000 (80%)]\tLoss: 0.004615\tAccuracy: 98.9211%\n",
            "Train Epoch: 3 [44800/48000 (93%)]\tLoss: 0.015596\tAccuracy: 98.8811%\n",
            "\n",
            "Validation set: Epoch: 3 Average loss: 0.0298, Accuracy: 11902/12000 (99.1833%)\n",
            "\n",
            "Train Epoch: 4 [0/48000 (0%)]\tLoss: 0.014984\tAccuracy: 100.0000%\n",
            "Train Epoch: 4 [6400/48000 (13%)]\tLoss: 0.040452\tAccuracy: 99.2420%\n",
            "Train Epoch: 4 [12800/48000 (27%)]\tLoss: 0.003658\tAccuracy: 99.0827%\n",
            "Train Epoch: 4 [19200/48000 (40%)]\tLoss: 0.000523\tAccuracy: 99.0968%\n",
            "Train Epoch: 4 [25600/48000 (53%)]\tLoss: 0.020240\tAccuracy: 99.1272%\n",
            "Train Epoch: 4 [32000/48000 (67%)]\tLoss: 0.009248\tAccuracy: 99.1299%\n",
            "Train Epoch: 4 [38400/48000 (80%)]\tLoss: 0.090575\tAccuracy: 99.1343%\n",
            "Train Epoch: 4 [44800/48000 (93%)]\tLoss: 0.003811\tAccuracy: 99.1307%\n",
            "\n",
            "Validation set: Epoch: 4 Average loss: 0.0290, Accuracy: 11890/12000 (99.0833%)\n",
            "\n",
            "Train Epoch: 5 [0/48000 (0%)]\tLoss: 0.014054\tAccuracy: 100.0000%\n",
            "Train Epoch: 5 [6400/48000 (13%)]\tLoss: 0.009911\tAccuracy: 99.4740%\n",
            "Train Epoch: 5 [12800/48000 (27%)]\tLoss: 0.006352\tAccuracy: 99.3315%\n",
            "Train Epoch: 5 [19200/48000 (40%)]\tLoss: 0.012214\tAccuracy: 99.3096%\n",
            "Train Epoch: 5 [25600/48000 (53%)]\tLoss: 0.030193\tAccuracy: 99.2597%\n",
            "Train Epoch: 5 [32000/48000 (67%)]\tLoss: 0.004282\tAccuracy: 99.2359%\n",
            "Train Epoch: 5 [38400/48000 (80%)]\tLoss: 0.000557\tAccuracy: 99.2408%\n",
            "Train Epoch: 5 [44800/48000 (93%)]\tLoss: 0.009549\tAccuracy: 99.2310%\n",
            "\n",
            "Validation set: Epoch: 5 Average loss: 0.0319, Accuracy: 11890/12000 (99.0833%)\n",
            "\n",
            "Train Epoch: 6 [0/48000 (0%)]\tLoss: 0.001652\tAccuracy: 100.0000%\n",
            "Train Epoch: 6 [6400/48000 (13%)]\tLoss: 0.002631\tAccuracy: 99.5050%\n",
            "Train Epoch: 6 [12800/48000 (27%)]\tLoss: 0.001142\tAccuracy: 99.4092%\n",
            "Train Epoch: 6 [19200/48000 (40%)]\tLoss: 0.001178\tAccuracy: 99.3719%\n",
            "Train Epoch: 6 [25600/48000 (53%)]\tLoss: 0.001344\tAccuracy: 99.3999%\n",
            "Train Epoch: 6 [32000/48000 (67%)]\tLoss: 0.014594\tAccuracy: 99.3856%\n",
            "Train Epoch: 6 [38400/48000 (80%)]\tLoss: 0.001215\tAccuracy: 99.3370%\n",
            "Train Epoch: 6 [44800/48000 (93%)]\tLoss: 0.038085\tAccuracy: 99.3625%\n",
            "\n",
            "Validation set: Epoch: 6 Average loss: 0.0400, Accuracy: 11872/12000 (98.9333%)\n",
            "\n",
            "Train Epoch: 7 [0/48000 (0%)]\tLoss: 0.086912\tAccuracy: 98.4375%\n",
            "Train Epoch: 7 [6400/48000 (13%)]\tLoss: 0.006332\tAccuracy: 99.3038%\n",
            "Train Epoch: 7 [12800/48000 (27%)]\tLoss: 0.000576\tAccuracy: 99.3392%\n",
            "Train Epoch: 7 [19200/48000 (40%)]\tLoss: 0.064201\tAccuracy: 99.3044%\n",
            "Train Epoch: 7 [25600/48000 (53%)]\tLoss: 0.000386\tAccuracy: 99.3532%\n",
            "Train Epoch: 7 [32000/48000 (67%)]\tLoss: 0.046355\tAccuracy: 99.3357%\n",
            "Train Epoch: 7 [38400/48000 (80%)]\tLoss: 0.007286\tAccuracy: 99.3500%\n",
            "Train Epoch: 7 [44800/48000 (93%)]\tLoss: 0.012381\tAccuracy: 99.3536%\n",
            "\n",
            "Validation set: Epoch: 7 Average loss: 0.0330, Accuracy: 11890/12000 (99.0833%)\n",
            "\n",
            "Train Epoch: 8 [0/48000 (0%)]\tLoss: 0.002913\tAccuracy: 100.0000%\n",
            "Train Epoch: 8 [6400/48000 (13%)]\tLoss: 0.032534\tAccuracy: 99.5359%\n",
            "Train Epoch: 8 [12800/48000 (27%)]\tLoss: 0.105452\tAccuracy: 99.4481%\n",
            "Train Epoch: 8 [19200/48000 (40%)]\tLoss: 0.000302\tAccuracy: 99.4913%\n",
            "Train Epoch: 8 [25600/48000 (53%)]\tLoss: 0.000385\tAccuracy: 99.5012%\n",
            "Train Epoch: 8 [32000/48000 (67%)]\tLoss: 0.086678\tAccuracy: 99.4792%\n",
            "Train Epoch: 8 [38400/48000 (80%)]\tLoss: 0.001117\tAccuracy: 99.4384%\n",
            "Train Epoch: 8 [44800/48000 (93%)]\tLoss: 0.001638\tAccuracy: 99.4205%\n",
            "\n",
            "Validation set: Epoch: 8 Average loss: 0.0325, Accuracy: 11912/12000 (99.2667%)\n",
            "\n",
            "Train Epoch: 9 [0/48000 (0%)]\tLoss: 0.001926\tAccuracy: 100.0000%\n",
            "Train Epoch: 9 [6400/48000 (13%)]\tLoss: 0.021804\tAccuracy: 99.6287%\n",
            "Train Epoch: 9 [12800/48000 (27%)]\tLoss: 0.000954\tAccuracy: 99.6113%\n",
            "Train Epoch: 9 [19200/48000 (40%)]\tLoss: 0.001433\tAccuracy: 99.5847%\n",
            "Train Epoch: 9 [25600/48000 (53%)]\tLoss: 0.001202\tAccuracy: 99.5129%\n",
            "Train Epoch: 9 [32000/48000 (67%)]\tLoss: 0.020175\tAccuracy: 99.5104%\n",
            "Train Epoch: 9 [38400/48000 (80%)]\tLoss: 0.023756\tAccuracy: 99.5086%\n",
            "Train Epoch: 9 [44800/48000 (93%)]\tLoss: 0.057085\tAccuracy: 99.5230%\n",
            "\n",
            "Validation set: Epoch: 9 Average loss: 0.0293, Accuracy: 11911/12000 (99.2583%)\n",
            "\n"
          ]
        }
      ]
    },
    {
      "cell_type": "markdown",
      "id": "82f30820",
      "metadata": {
        "id": "82f30820"
      },
      "source": [
        "### Training Loop:\n",
        "* For each epoch, the model is set to training mode.\n",
        "* For each batch, gradients are reset, forward pass is performed, loss is computed, backpropagation is done, and optimizer updates the weights.\n",
        "* The loss is printed every 100 batches for monitoring progress."
      ]
    },
    {
      "cell_type": "code",
      "source": [
        "for i in val_losses:\n",
        "  print(i)"
      ],
      "metadata": {
        "colab": {
          "base_uri": "https://localhost:8080/"
        },
        "id": "SznaLWNbt093",
        "outputId": "54be29cd-659e-4cca-ca5f-3be706bd1a42"
      },
      "id": "SznaLWNbt093",
      "execution_count": 17,
      "outputs": [
        {
          "output_type": "stream",
          "name": "stdout",
          "text": [
            "0.05887532607714335\n",
            "0.03677173372109731\n",
            "0.033562953472137454\n",
            "0.029791799068450926\n",
            "0.028978374203046164\n",
            "0.03192912745475769\n",
            "0.03998211832841237\n",
            "0.03301657219727834\n",
            "0.03246901808182399\n",
            "0.029314109802246094\n"
          ]
        }
      ]
    },
    {
      "cell_type": "code",
      "source": [
        "# Plotting the loss and accuracy curves\n",
        "plt.figure(figsize=(12, 5))\n",
        "\n",
        "plt.subplot(1, 2, 1)\n",
        "plt.plot(range(epochs), train_losses, label='Training Loss')\n",
        "plt.plot(range(epochs), val_losses, label='Validation Loss')\n",
        "plt.xlabel('Epochs')\n",
        "plt.ylabel('Loss')\n",
        "plt.title('Loss Curve')\n",
        "plt.legend()\n",
        "\n",
        "plt.subplot(1, 2, 2)\n",
        "plt.plot(range(epochs), train_accuracies, label='Training Accuracy')\n",
        "plt.plot(range(epochs), val_accuracies, label='Validation Accuracy')\n",
        "plt.xlabel('Epochs')\n",
        "plt.ylabel('Accuracy')\n",
        "plt.title('Accuracy Curve')\n",
        "plt.legend()\n",
        "\n",
        "plt.show()"
      ],
      "metadata": {
        "id": "flYutrsH85xw",
        "colab": {
          "base_uri": "https://localhost:8080/",
          "height": 487
        },
        "outputId": "09500f6b-d0b8-4bd6-dc7b-45a15009daa0"
      },
      "id": "flYutrsH85xw",
      "execution_count": 18,
      "outputs": [
        {
          "output_type": "display_data",
          "data": {
            "text/plain": [
              "<Figure size 1200x500 with 2 Axes>"
            ],
            "image/png": "[encoded data removed]"
          },
          "metadata": {}
        }
      ]
    },
    {
      "cell_type": "markdown",
      "id": "e29a4e43",
      "metadata": {
        "id": "e29a4e43"
      },
      "source": [
        "## Step 4: Model Evaluation and Hyperparameter Tuning"
      ]
    },
    {
      "cell_type": "markdown",
      "id": "6812bfa4",
      "metadata": {
        "id": "6812bfa4"
      },
      "source": [
        "### 4.1 Evaluate the Network\n",
        "* After training, we evaluate the network on the test dataset to see how well it performs."
      ]
    },
    {
      "cell_type": "code",
      "execution_count": null,
      "id": "fe7a5ff4",
      "metadata": {
        "id": "fe7a5ff4"
      },
      "outputs": [],
      "source": [
        "# Test phase for 3 layered architecture\n",
        "model.eval()\n",
        "test_loss = 0\n",
        "correct = 0\n",
        "with torch.no_grad():\n",
        "    for data, target in test_loader:\n",
        "        output = model(data)\n",
        "        test_loss += F.nll_loss(output, target, reduction='sum').item()\n",
        "        pred = output.argmax(dim=1, keepdim=True)\n",
        "        correct += pred.eq(target.view_as(pred)).sum().item()\n",
        "\n",
        "test_loss /= len(test_loader.dataset)\n",
        "accuracy = 100. * correct / len(test_loader.dataset)\n",
        "\n",
        "print(f'\\nTest set: Average loss: {test_loss:.4f}, Accuracy: {correct}/{len(test_loader.dataset)} ({accuracy:.0f}%)\\n')\n"
      ]
    },
    {
      "cell_type": "code",
      "source": [
        "# Test Phase for CNN\n",
        "model.eval()\n",
        "test_loss = 0\n",
        "correct = 0\n",
        "with torch.no_grad():\n",
        "    for data, target in test_loader:\n",
        "        data, target = data.to(device), target.to(device)\n",
        "        output = model(data)\n",
        "        test_loss += F.cross_entropy(output, target, reduction='sum').item()\n",
        "        pred = output.argmax(dim=1, keepdim=True)\n",
        "        correct += pred.eq(target.view_as(pred)).sum().item()\n",
        "\n",
        "test_loss /= len(test_loader.dataset)\n",
        "accuracy = 100. * correct / len(test_loader.dataset)\n",
        "\n",
        "print(f'\\nTest set: Average loss: {test_loss:.4f}, Accuracy: {correct}/{len(test_loader.dataset)} ({accuracy:.0f}%)\\n')"
      ],
      "metadata": {
        "colab": {
          "base_uri": "https://localhost:8080/"
        },
        "id": "SEoHQzqzDsRS",
        "outputId": "9ae84b4c-f060-436f-9ef7-3e62ede84a5f"
      },
      "id": "SEoHQzqzDsRS",
      "execution_count": 21,
      "outputs": [
        {
          "output_type": "stream",
          "name": "stdout",
          "text": [
            "\n",
            "Test set: Average loss: 0.0274, Accuracy: 9925/10000 (99%)\n",
            "\n"
          ]
        }
      ]
    },
    {
      "cell_type": "markdown",
      "id": "46be17a0",
      "metadata": {
        "id": "46be17a0"
      },
      "source": [
        "### Evaluation:\n",
        "* The model is set to evaluation mode.\n",
        "* The test data is processed without computing gradients (no_grad()), reducing memory usage and speeding up computations.\n",
        "* The total loss and number of correct predictions are accumulated.\n",
        "* The average loss and accuracy are calculated and printed."
      ]
    },
    {
      "cell_type": "code",
      "source": [
        "torch.save(model.state_dict(), 'mnist_model.pth') # Observed overfitting"
      ],
      "metadata": {
        "id": "mFjSIN21EKMR"
      },
      "id": "mFjSIN21EKMR",
      "execution_count": null,
      "outputs": []
    },
    {
      "cell_type": "code",
      "execution_count": 13,
      "id": "3380db2a",
      "metadata": {
        "id": "3380db2a"
      },
      "outputs": [],
      "source": [
        "torch.save(model.state_dict(), 'mnist_model_modified.pth') # Remedied overfitting/Regularizatn using dropout"
      ]
    },
    {
      "cell_type": "code",
      "source": [
        "torch.save(model.state_dict(), 'mnist_model_CNN.pth') # Tried CNN architecture for improved accuracy"
      ],
      "metadata": {
        "id": "ypB4rdU93Ur5"
      },
      "id": "ypB4rdU93Ur5",
      "execution_count": 19,
      "outputs": []
    },
    {
      "cell_type": "code",
      "source": [],
      "metadata": {
        "id": "yO9aInfvDDLa"
      },
      "id": "yO9aInfvDDLa",
      "execution_count": null,
      "outputs": []
    }
  ],
  "metadata": {
    "kernelspec": {
      "display_name": "Python 3",
      "name": "python3"
    },
    "language_info": {
      "codemirror_mode": {
        "name": "ipython",
        "version": 3
      },
      "file_extension": ".py",
      "mimetype": "text/x-python",
      "name": "python",
      "nbconvert_exporter": "python",
      "pygments_lexer": "ipython3",
      "version": "3.10.9"
    },
    "colab": {
      "provenance": [],
      "gpuType": "T4"
    },
    "accelerator": "GPU"
  },
  "nbformat": 4,
  "nbformat_minor": 5
}